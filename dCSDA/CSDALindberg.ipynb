{
 "cells": [
  {
   "cell_type": "markdown",
   "metadata": {},
   "source": [
    "# CSDA with Lindberg Operators\n",
    "\n",
    "Annotated Version in Jupyter from program CSDALindberg.jl. \n",
    "\n",
    "This notebook requires a HDF5 file that cointains the \n",
    "LFP, and a list of unusable electrodes."
   ]
  },
  {
   "cell_type": "code",
   "execution_count": 3,
   "metadata": {},
   "outputs": [
    {
     "data": {
      "text/plain": [
       "5-element Array{String,1}:\n",
       " \"@\"\n",
       " \"@v#.#\"\n",
       " \"@stdlib\"\n",
       " \".\"\n",
       " \".\""
      ]
     },
     "execution_count": 3,
     "metadata": {},
     "output_type": "execute_result"
    }
   ],
   "source": [
    "push!(LOAD_PATH, \".\")"
   ]
  },
  {
   "cell_type": "code",
   "execution_count": 5,
   "metadata": {},
   "outputs": [
    {
     "name": "stderr",
     "output_type": "stream",
     "text": [
      "┌ Info: Precompiling LindbergOperators [top-level]\n",
      "└ @ Base loading.jl:1260\n",
      "┌ Info: Precompiling ParaSets [top-level]\n",
      "└ @ Base loading.jl:1260\n"
     ]
    }
   ],
   "source": [
    "using HDF5\n",
    "using LindbergOperators, ParaSets\n",
    "#importall LindenbergOperadores"
   ]
  },
  {
   "cell_type": "code",
   "execution_count": 6,
   "metadata": {},
   "outputs": [
    {
     "name": "stderr",
     "output_type": "stream",
     "text": [
      "HDF5-DIAG: Error detected in HDF5 (1.10.4) thread 0:\n",
      "  #000: H5F.c line 370 in H5Fis_hdf5(): unable open file\n",
      "    major: File accessibilty\n",
      "    minor: Not an HDF5 file\n",
      "  #001: H5Fint.c line 802 in H5F__is_hdf5(): unable to open file\n",
      "    major: Low-level I/O\n",
      "    minor: Unable to initialize object\n",
      "  #002: H5FD.c line 734 in H5FD_open(): open failed\n",
      "    major: Virtual File Layer\n",
      "    minor: Unable to initialize object\n",
      "  #003: H5FDsec2.c line 346 in H5FD_sec2_open(): unable to open file: name = '../BRWFiles/test.h5', errno = 2, error message = 'No existe el fichero o el directorio', flags = 0, o_flags = 0\n",
      "    major: File accessibilty\n",
      "    minor: Unable to open file\n"
     ]
    },
    {
     "ename": "ErrorException",
     "evalue": "Cannot access file ../BRWFiles/test.h5",
     "output_type": "error",
     "traceback": [
      "Cannot access file ../BRWFiles/test.h5",
      "",
      "Stacktrace:",
      " [1] h5f_is_hdf5(::String) at /home/karel/.julia/packages/HDF5/QXcoh/src/HDF5.jl:2330",
      " [2] h5open(::String, ::Bool, ::Bool, ::Bool, ::Bool, ::Bool, ::HDF5Properties, ::HDF5Properties; swmr::Bool) at /home/karel/.julia/packages/HDF5/QXcoh/src/HDF5.jl:625",
      " [3] h5open(::String, ::String; swmr::Bool) at /home/karel/.julia/packages/HDF5/QXcoh/src/HDF5.jl:673",
      " [4] h5open at /home/karel/.julia/packages/HDF5/QXcoh/src/HDF5.jl:656 [inlined] (repeats 2 times)",
      " [5] top-level scope at In[6]:2"
     ]
    }
   ],
   "source": [
    "arxnombre=\"../BRWFiles/test.h5\"\n",
    "arx=h5open(arxnombre)\n",
    "names(arx)"
   ]
  },
  {
   "cell_type": "code",
   "execution_count": 9,
   "metadata": {},
   "outputs": [
    {
     "ename": "UndefVarError",
     "evalue": "UndefVarError: arx not defined",
     "output_type": "error",
     "traceback": [
      "UndefVarError: arx not defined",
      "",
      "Stacktrace:",
      " [1] top-level scope at In[9]:3"
     ]
    }
   ],
   "source": [
    "# Check how you named the LFP data and put the right name here\n",
    "LFPname=\"LFPSaturados\"\n",
    "    LFP=read(arx[\"LFPname\"])\n",
    "# or maybe\n",
    "# LFP=read(arx[\"LFPTotal\"])\n",
    "\n",
    "saturadosarray=read(arx[\"CanalesSaturados\"])\n",
    "respuestasarray=read(arx[\"Canalesrespuesta\"]);\n",
    "frecuencia=read(arx[\"freq\"])\n",
    "close(arx)"
   ]
  },
  {
   "cell_type": "code",
   "execution_count": 24,
   "metadata": {},
   "outputs": [
    {
     "data": {
      "text/plain": [
       "Set(Any[[25, 55], [22, 48], [19, 59], [48, 35], [20, 52], [17, 50], [25, 51], [23, 58], [21, 54], [20, 48]  …  [20, 54], [31, 53], [22, 52], [27, 52], [18, 57], [25, 52], [19, 57], [25, 59], [23, 51], [20, 50], [20, 56]])"
      ]
     },
     "execution_count": 24,
     "metadata": {},
     "output_type": "execute_result"
    }
   ],
   "source": [
    "saturados=arraytoset(saturadosarray)\n",
    "respuestas=arraytoset(respuestasarray)"
   ]
  },
  {
   "cell_type": "code",
   "execution_count": 25,
   "metadata": {
    "collapsed": true
   },
   "outputs": [],
   "source": [
    "\n",
    "\n",
    "lfpParchado=copy(LFP)\n",
    "(l,m,cmax)=size(lfpParchado)\n",
    "# Set to zero unusable channels\n",
    "for m in saturados\n",
    "    q=m[1]\n",
    "    p=m[2]\n",
    "    lfpParchado[q,p,:]=zeros(cmax)\n",
    "end"
   ]
  },
  {
   "cell_type": "code",
   "execution_count": 26,
   "metadata": {},
   "outputs": [
    {
     "data": {
      "text/plain": [
       "Set(Any[[29, 58], [34, 7], [29, 55], [33, 60], [38, 61], [32, 57], [27, 61], [25, 51], [33, 61], [36, 63]  …  [46, 57], [37, 60], [29, 40], [29, 5], [35, 49], [36, 57], [31, 61], [34, 56], [23, 52], [33, 59], [36, 59]])"
      ]
     },
     "execution_count": 26,
     "metadata": {},
     "output_type": "execute_result"
    }
   ],
   "source": [
    "listaredux=TiraOrillas(saturados)\n"
   ]
  },
  {
   "cell_type": "code",
   "execution_count": 27,
   "metadata": {
    "collapsed": true
   },
   "outputs": [],
   "source": [
    "#Let us put a smoothing over the new zeros.\n",
    "for m in listaredux\n",
    "        q=m[1]\n",
    "        p=m[2]\n",
    "        vecinos=vecindad8(m)\n",
    "        lfpParchado[q,p,:]=promediasobreconjunto(vecinos,lfpParchado)\n",
    "end\n"
   ]
  },
  {
   "cell_type": "code",
   "execution_count": 28,
   "metadata": {},
   "outputs": [
    {
     "data": {
      "text/plain": [
       "(64, 64, 459)"
      ]
     },
     "execution_count": 28,
     "metadata": {},
     "output_type": "execute_result"
    }
   ],
   "source": [
    "size(lfpParchado)"
   ]
  },
  {
   "cell_type": "code",
   "execution_count": 29,
   "metadata": {
    "collapsed": true
   },
   "outputs": [],
   "source": [
    "(mu,nu,lu)=size(lfpParchado)\n",
    "#Gaussian Temporal Smoothing, makes animations clear.\n",
    "lfpplanchado=zeros(mu,nu,lu)\n",
    "for j=1:mu,l=1:nu\n",
    "    porromponpon=vec(lfpParchado[j,l,:])\n",
    "    lfpplanchado[j,l,:]=GaussSuavizarTemporal(porromponpon)\n",
    "end\n",
    "\n"
   ]
  },
  {
   "cell_type": "code",
   "execution_count": 14,
   "metadata": {
    "collapsed": true
   },
   "outputs": [],
   "source": [
    "\n",
    "aux1=zeros(mu,nu,lu)\n",
    "aux2=zeros(mu,nu,lu)\n",
    "#Spatial Gaussian Smoothing and dCSD.\n",
    "\n",
    "for t=1:lu\n",
    "    aux1[:,:,t]=GaussianSmooth(lfpplanchado[:,:,t])\n",
    "    aux2[:,:,t]=DiscreteLaplacian(aux1[:,:,t])\n",
    "end\n",
    "CSD=-aux2;\n"
   ]
  },
  {
   "cell_type": "code",
   "execution_count": 30,
   "metadata": {
    "collapsed": true
   },
   "outputs": [],
   "source": [
    "# saving file\n",
    "h5open(arxnombre, \"r+\") do file\n",
    "    write(file, \"CSDALindenberg\", CSD)  # alternatively, say \"@write file A\"\n",
    "end\n"
   ]
  },
  {
   "cell_type": "code",
   "execution_count": 10,
   "metadata": {},
   "outputs": [
    {
     "name": "stderr",
     "output_type": "stream",
     "text": [
      "HDF5-DIAG: Error detected in HDF5 (1.10.4) thread 0:\n",
      "  #000: H5F.c line 370 in H5Fis_hdf5(): unable open file\n",
      "    major: File accessibilty\n",
      "    minor: Not an HDF5 file\n",
      "  #001: H5Fint.c line 802 in H5F__is_hdf5(): unable to open file\n",
      "    major: Low-level I/O\n",
      "    minor: Unable to initialize object\n",
      "  #002: H5FD.c line 734 in H5FD_open(): open failed\n",
      "    major: Virtual File Layer\n",
      "    minor: Unable to initialize object\n",
      "  #003: H5FDsec2.c line 346 in H5FD_sec2_open(): unable to open file: name = '../BRWFiles/test.h5', errno = 2, error message = 'No existe el fichero o el directorio', flags = 0, o_flags = 0\n",
      "    major: File accessibilty\n",
      "    minor: Unable to open file\n"
     ]
    },
    {
     "ename": "ErrorException",
     "evalue": "Cannot access file ../BRWFiles/test.h5",
     "output_type": "error",
     "traceback": [
      "Cannot access file ../BRWFiles/test.h5",
      "",
      "Stacktrace:",
      " [1] h5f_is_hdf5(::String) at /home/karel/.julia/packages/HDF5/QXcoh/src/HDF5.jl:2330",
      " [2] h5open(::String, ::Bool, ::Bool, ::Bool, ::Bool, ::Bool, ::HDF5Properties, ::HDF5Properties; swmr::Bool) at /home/karel/.julia/packages/HDF5/QXcoh/src/HDF5.jl:625",
      " [3] h5open(::String, ::String; swmr::Bool) at /home/karel/.julia/packages/HDF5/QXcoh/src/HDF5.jl:673",
      " [4] h5open at /home/karel/.julia/packages/HDF5/QXcoh/src/HDF5.jl:656 [inlined] (repeats 2 times)",
      " [5] top-level scope at In[10]:1"
     ]
    }
   ],
   "source": [
    "#check file\n",
    "arx=h5open(arxnombre)\n",
    "names(arx)"
   ]
  },
  {
   "cell_type": "code",
   "execution_count": 32,
   "metadata": {
    "collapsed": true
   },
   "outputs": [],
   "source": [
    "close(arx)"
   ]
  },
  {
   "cell_type": "code",
   "execution_count": null,
   "metadata": {
    "collapsed": true
   },
   "outputs": [],
   "source": []
  },
  {
   "cell_type": "code",
   "execution_count": null,
   "metadata": {
    "collapsed": true
   },
   "outputs": [],
   "source": []
  }
 ],
 "metadata": {
  "@webio": {
   "lastCommId": "602B99BF4B55486F81A4346090367246",
   "lastKernelId": "7868bc74-0d34-43fb-acec-d246b039c2e6"
  },
  "kernelspec": {
   "display_name": "Julia 1.4.1",
   "language": "julia",
   "name": "julia-1.4"
  },
  "language_info": {
   "file_extension": ".jl",
   "mimetype": "application/julia",
   "name": "julia",
   "version": "1.4.1"
  }
 },
 "nbformat": 4,
 "nbformat_minor": 2
}
